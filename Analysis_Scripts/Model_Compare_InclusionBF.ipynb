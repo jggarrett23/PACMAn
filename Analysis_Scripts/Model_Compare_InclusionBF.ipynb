{
 "cells": [
  {
   "cell_type": "code",
   "execution_count": 2,
   "id": "26cd6c2c-ecb6-4c8c-9212-4e0fec30e48f",
   "metadata": {},
   "outputs": [
    {
     "name": "stderr",
     "output_type": "stream",
     "text": [
      "-- \u001b[1mAttaching packages\u001b[22m --------------------------------------- tidyverse 1.3.2 --\n",
      "\u001b[32mv\u001b[39m \u001b[34mggplot2\u001b[39m 3.4.2     \u001b[32mv\u001b[39m \u001b[34mpurrr  \u001b[39m 1.0.1\n",
      "\u001b[32mv\u001b[39m \u001b[34mtibble \u001b[39m 3.2.1     \u001b[32mv\u001b[39m \u001b[34mdplyr  \u001b[39m 1.1.2\n",
      "\u001b[32mv\u001b[39m \u001b[34mtidyr  \u001b[39m 1.3.0     \u001b[32mv\u001b[39m \u001b[34mstringr\u001b[39m 1.5.0\n",
      "\u001b[32mv\u001b[39m \u001b[34mreadr  \u001b[39m 2.1.4     \u001b[32mv\u001b[39m \u001b[34mforcats\u001b[39m 1.0.0\n",
      "-- \u001b[1mConflicts\u001b[22m ------------------------------------------ tidyverse_conflicts() --\n",
      "\u001b[31mx\u001b[39m \u001b[34mdplyr\u001b[39m::\u001b[32mfilter()\u001b[39m masks \u001b[34mstats\u001b[39m::filter()\n",
      "\u001b[31mx\u001b[39m \u001b[34mdplyr\u001b[39m::\u001b[32mlag()\u001b[39m    masks \u001b[34mstats\u001b[39m::lag()\n",
      "Loading required package: Rcpp\n",
      "\n",
      "Loading 'brms' package (version 2.19.0). Useful instructions\n",
      "can be found by typing help('brms'). A more detailed introduction\n",
      "to the package is available through vignette('brms_overview').\n",
      "\n",
      "\n",
      "Attaching package: 'brms'\n",
      "\n",
      "\n",
      "The following object is masked from 'package:stats':\n",
      "\n",
      "    ar\n",
      "\n",
      "\n",
      "\n",
      "Attaching package: 'tidybayes'\n",
      "\n",
      "\n",
      "The following objects are masked from 'package:brms':\n",
      "\n",
      "    dstudent_t, pstudent_t, qstudent_t, rstudent_t\n",
      "\n",
      "\n",
      "The following object is masked from 'package:bayestestR':\n",
      "\n",
      "    hdi\n",
      "\n",
      "\n"
     ]
    }
   ],
   "source": [
    "library(bayestestR)\n",
    "library(tidyverse)\n",
    "library(brms)\n",
    "library(tidybayes)"
   ]
  },
  {
   "cell_type": "code",
   "execution_count": 3,
   "id": "c7072c57-1ad4-42e8-b91d-16d3f2d7fc42",
   "metadata": {},
   "outputs": [],
   "source": [
    "parentDir <- '/work/garrett/PACMAn/NatComm_Update'\n",
    "modelDir <- file.path(parentDir,'Models')"
   ]
  },
  {
   "cell_type": "code",
   "execution_count": 4,
   "id": "12bad8a8-5714-4bef-9971-7a71ee1c5404",
   "metadata": {},
   "outputs": [],
   "source": [
    "setwd(modelDir)"
   ]
  },
  {
   "cell_type": "code",
   "execution_count": 4,
   "id": "af595f0d-35ad-4ea4-b659-1d0825d27e5a",
   "metadata": {},
   "outputs": [],
   "source": [
    "overall_model <- readRDS('overall_random.rds')\n",
    "inten_model <- readRDS('subgroup_intensity.rds')\n",
    "domain_model <- readRDS('subgroup_cogDomain.rds')\n",
    "type_model <- readRDS('subgroup_exMode.rds')\n",
    "testTime_model <- readRDS('subgroup_testTime.rds')\n",
    "outcome_model <- readRDS('subgroup_outcomeMeasure.rds')\n",
    "duration_model <- readRDS('subgroup_duration.rds')\n",
    "year_model <- readRDS('moderator_year.rds')\n",
    "design_model <- readRDS('subgroup_design.rds')"
   ]
  },
  {
   "cell_type": "code",
   "execution_count": 5,
   "id": "4e2e1a47-d1c2-4855-9a33-88858355038a",
   "metadata": {},
   "outputs": [],
   "source": [
    "inten_type_model <- readRDS('subgroup_intensity_exMode_model.rds')\n",
    "inten_duration_model <- readRDS('subgroup_intensity_duration_model.rds')\n",
    "domain_type_model <- readRDS('subgroup_domain_type_model.rds')\n",
    "domain_duration_model <- readRDS('subgroup_domain_duration_model.rds')\n",
    "domain_inten_model <- readRDS('subgroup_domain_intensity_model.rds')\n",
    "domain_outcome_model <- readRDS('subgroup_domain_outcome_model.rds')\n",
    "type_duration_model <- readRDS('subgroup_type_duration_model.rds')\n",
    "type_outcome_model <- readRDS('subgroup_type_outcome_model.rds')"
   ]
  },
  {
   "cell_type": "code",
   "execution_count": 5,
   "id": "9d2d496c-443f-4b9b-8551-cfc5cc5b25ca",
   "metadata": {},
   "outputs": [],
   "source": [
    "inten_X_type_model <- readRDS('subgroup_intensity_X_exMode_model.rds')\n",
    "inten_X_duration_model <- readRDS('subgroup_intensity_X_duration_model.rds')\n",
    "domain_X_type_model <- readRDS('subgroup_domain_X_type_model.rds')\n",
    "domain_X_duration_model <- readRDS('subgroup_domain_X_duration_model.rds')\n",
    "domain_X_inten_model <- readRDS('subgroup_domain_X_intensity_model.rds')\n",
    "domain_X_outcome_model <- readRDS('subgroup_domain_X_outcome_model.rds')\n",
    "type_X_duration_model <- readRDS('subgroup_type_X_duration_model.rds')\n",
    "type_X_outcome_model <- readRDS('subgroup_type_X_outcome_model.rds')"
   ]
  },
  {
   "cell_type": "code",
   "execution_count": 7,
   "id": "e07f5d4a-5832-4902-9adb-eadf0d293480",
   "metadata": {},
   "outputs": [],
   "source": [
    "set.seed(23)"
   ]
  },
  {
   "cell_type": "code",
   "execution_count": 22,
   "id": "da3ae732-0f59-4fc3-9b26-f971dfb975f8",
   "metadata": {
    "tags": []
   },
   "outputs": [
    {
     "name": "stderr",
     "output_type": "stream",
     "text": [
      "Computation of Marginal Likelihood: estimating marginal likelihood, please wait...\n",
      "\n",
      "Computation of Marginal Likelihood: estimating marginal likelihood, please wait...\n",
      "\n",
      "Computation of Marginal Likelihood: estimating marginal likelihood, please wait...\n",
      "\n",
      "Computation of Marginal Likelihood: estimating marginal likelihood, please wait...\n",
      "\n",
      "Computation of Marginal Likelihood: estimating marginal likelihood, please wait...\n",
      "\n",
      "Computation of Marginal Likelihood: estimating marginal likelihood, please wait...\n",
      "\n",
      "Computation of Marginal Likelihood: estimating marginal likelihood, please wait...\n",
      "\n",
      "Computation of Marginal Likelihood: estimating marginal likelihood, please wait...\n",
      "\n",
      "Computation of Marginal Likelihood: estimating marginal likelihood, please wait...\n",
      "\n",
      "Computation of Marginal Likelihood: estimating marginal likelihood, please wait...\n",
      "\n",
      "Computation of Marginal Likelihood: estimating marginal likelihood, please wait...\n",
      "\n",
      "Computation of Marginal Likelihood: estimating marginal likelihood, please wait...\n",
      "\n",
      "Computation of Marginal Likelihood: estimating marginal likelihood, please wait...\n",
      "\n",
      "Computation of Marginal Likelihood: estimating marginal likelihood, please wait...\n",
      "\n",
      "Computation of Marginal Likelihood: estimating marginal likelihood, please wait...\n",
      "\n",
      "Computation of Marginal Likelihood: estimating marginal likelihood, please wait...\n",
      "\n",
      "Computation of Marginal Likelihood: estimating marginal likelihood, please wait...\n",
      "\n",
      "Computation of Marginal Likelihood: estimating marginal likelihood, please wait...\n",
      "\n",
      "Computation of Marginal Likelihood: estimating marginal likelihood, please wait...\n",
      "\n",
      "Computation of Marginal Likelihood: estimating marginal likelihood, please wait...\n",
      "\n",
      "Computation of Marginal Likelihood: estimating marginal likelihood, please wait...\n",
      "\n",
      "Computation of Marginal Likelihood: estimating marginal likelihood, please wait...\n",
      "\n",
      "Computation of Marginal Likelihood: estimating marginal likelihood, please wait...\n",
      "\n",
      "Warning message:\n",
      "\"logml could not be estimated within maxiter, rerunning with adjusted starting value. \n",
      "Estimate might be more variable than usual.\"\n",
      "Computation of Marginal Likelihood: estimating marginal likelihood, please wait...\n",
      "\n",
      "Computation of Marginal Likelihood: estimating marginal likelihood, please wait...\n",
      "\n"
     ]
    }
   ],
   "source": [
    "model_compare_bfs <- bayesfactor_models(inten_model, domain_model, type_model, testTime_model,\n",
    "                                        outcome_model, duration_model, year_model, design_model, \n",
    "                                        inten_type_model, inten_duration_model, domain_duration_model, domain_inten_model,\n",
    "                                        domain_outcome_model, domain_type_model, type_duration_model, type_outcome_model,\n",
    "                                        inten_X_type_model, inten_X_duration_model, domain_X_duration_model,\n",
    "                                        domain_X_outcome_model, domain_X_type_model, domain_X_inten_model,\n",
    "                                        type_X_duration_model, type_X_outcome_model,\n",
    "                                        denominator=overall_model)"
   ]
  },
  {
   "cell_type": "code",
   "execution_count": 23,
   "id": "91136cde-6e06-4a4b-92bc-3dcdac6f442b",
   "metadata": {},
   "outputs": [],
   "source": [
    "inclusion_bfs <- bayesfactor_inclusion(model_compare_bfs,\n",
    "                                       match=T)"
   ]
  },
  {
   "cell_type": "code",
   "execution_count": 24,
   "id": "12b18f37-fc67-484a-8b9f-f876c51f4178",
   "metadata": {},
   "outputs": [],
   "source": [
    "inclusion_bfs$BF <- exp(inclusion_bfs$log_BF)"
   ]
  },
  {
   "cell_type": "code",
   "execution_count": 25,
   "id": "76490f5e-e065-4dcd-ae94-5b5307177e4a",
   "metadata": {},
   "outputs": [
    {
     "data": {
      "text/html": [
       "<table class=\"dataframe\">\n",
       "<caption>A bayesfactor_inclusion: 18 × 4</caption>\n",
       "<thead>\n",
       "\t<tr><th></th><th scope=col>p_prior</th><th scope=col>p_posterior</th><th scope=col>log_BF</th><th scope=col>BF</th></tr>\n",
       "\t<tr><th></th><th scope=col>&lt;dbl&gt;</th><th scope=col>&lt;dbl&gt;</th><th scope=col>&lt;dbl&gt;</th><th scope=col>&lt;dbl&gt;</th></tr>\n",
       "</thead>\n",
       "<tbody>\n",
       "\t<tr><th scope=row>1:es.ids:Article.ID</th><td>1.00</td><td>1.000000e+00</td><td>       NaN</td><td>         NaN</td></tr>\n",
       "\t<tr><th scope=row>1:Article.ID</th><td>0.00</td><td>0.000000e+00</td><td>       NaN</td><td>         NaN</td></tr>\n",
       "\t<tr><th scope=row>Ex.ACSM.2</th><td>0.16</td><td>6.386153e-05</td><td> -8.154652</td><td>2.873953e-04</td></tr>\n",
       "\t<tr><th scope=row>Domain.2</th><td>0.16</td><td>1.222852e-03</td><td> -5.201258</td><td>5.509630e-03</td></tr>\n",
       "\t<tr><th scope=row>Ex.Mode.2</th><td>0.20</td><td>1.779082e-02</td><td> -2.847962</td><td>5.796234e-02</td></tr>\n",
       "\t<tr><th scope=row>EffectTime</th><td>0.04</td><td>5.257831e-05</td><td> -6.675100</td><td>1.261946e-03</td></tr>\n",
       "\t<tr><th scope=row>OutcomeVariable</th><td>0.16</td><td>9.924183e-01</td><td>  6.381202</td><td>5.906370e+02</td></tr>\n",
       "\t<tr><th scope=row>Duration.3</th><td>0.16</td><td>2.140066e-04</td><td> -6.945211</td><td>9.632367e-04</td></tr>\n",
       "\t<tr><th scope=row>Date</th><td>0.04</td><td>6.077546e-05</td><td> -6.530210</td><td>1.458700e-03</td></tr>\n",
       "\t<tr><th scope=row>Exercise.Design</th><td>0.04</td><td>2.809324e-03</td><td> -2.693944</td><td>6.761372e-02</td></tr>\n",
       "\t<tr><th scope=row>Ex.ACSM.2:Ex.Mode.2</th><td>0.04</td><td>2.679212e-12</td><td>-12.971850</td><td>2.324861e-06</td></tr>\n",
       "\t<tr><th scope=row>Duration.3:Ex.ACSM.2</th><td>0.04</td><td>7.603247e-16</td><td>-16.794725</td><td>5.083276e-08</td></tr>\n",
       "\t<tr><th scope=row>Duration.3:OutcomeVariable</th><td>0.04</td><td>7.332311e-07</td><td> -5.670841</td><td>3.444968e-03</td></tr>\n",
       "\t<tr><th scope=row>Domain.2:OutcomeVariable</th><td>0.04</td><td>1.084718e-05</td><td> -4.721245</td><td>8.904090e-03</td></tr>\n",
       "\t<tr><th scope=row>Domain.2:Ex.Mode.2</th><td>0.04</td><td>1.596058e-11</td><td> -8.751685</td><td>1.581946e-04</td></tr>\n",
       "\t<tr><th scope=row>Domain.2:Ex.ACSM.2</th><td>0.04</td><td>1.187913e-12</td><td>-10.149185</td><td>3.910795e-05</td></tr>\n",
       "\t<tr><th scope=row>Duration.3:Ex.Mode.2</th><td>0.04</td><td>2.480124e-15</td><td>-15.147659</td><td>2.639098e-07</td></tr>\n",
       "\t<tr><th scope=row>Ex.Mode.2:OutcomeVariable</th><td>0.04</td><td>9.034360e-06</td><td> -7.575704</td><td>5.127594e-04</td></tr>\n",
       "</tbody>\n",
       "</table>\n"
      ],
      "text/latex": [
       "A bayesfactor\\_inclusion: 18 × 4\n",
       "\\begin{tabular}{r|llll}\n",
       "  & p\\_prior & p\\_posterior & log\\_BF & BF\\\\\n",
       "  & <dbl> & <dbl> & <dbl> & <dbl>\\\\\n",
       "\\hline\n",
       "\t1:es.ids:Article.ID & 1.00 & 1.000000e+00 &        NaN &          NaN\\\\\n",
       "\t1:Article.ID & 0.00 & 0.000000e+00 &        NaN &          NaN\\\\\n",
       "\tEx.ACSM.2 & 0.16 & 6.386153e-05 &  -8.154652 & 2.873953e-04\\\\\n",
       "\tDomain.2 & 0.16 & 1.222852e-03 &  -5.201258 & 5.509630e-03\\\\\n",
       "\tEx.Mode.2 & 0.20 & 1.779082e-02 &  -2.847962 & 5.796234e-02\\\\\n",
       "\tEffectTime & 0.04 & 5.257831e-05 &  -6.675100 & 1.261946e-03\\\\\n",
       "\tOutcomeVariable & 0.16 & 9.924183e-01 &   6.381202 & 5.906370e+02\\\\\n",
       "\tDuration.3 & 0.16 & 2.140066e-04 &  -6.945211 & 9.632367e-04\\\\\n",
       "\tDate & 0.04 & 6.077546e-05 &  -6.530210 & 1.458700e-03\\\\\n",
       "\tExercise.Design & 0.04 & 2.809324e-03 &  -2.693944 & 6.761372e-02\\\\\n",
       "\tEx.ACSM.2:Ex.Mode.2 & 0.04 & 2.679212e-12 & -12.971850 & 2.324861e-06\\\\\n",
       "\tDuration.3:Ex.ACSM.2 & 0.04 & 7.603247e-16 & -16.794725 & 5.083276e-08\\\\\n",
       "\tDuration.3:OutcomeVariable & 0.04 & 7.332311e-07 &  -5.670841 & 3.444968e-03\\\\\n",
       "\tDomain.2:OutcomeVariable & 0.04 & 1.084718e-05 &  -4.721245 & 8.904090e-03\\\\\n",
       "\tDomain.2:Ex.Mode.2 & 0.04 & 1.596058e-11 &  -8.751685 & 1.581946e-04\\\\\n",
       "\tDomain.2:Ex.ACSM.2 & 0.04 & 1.187913e-12 & -10.149185 & 3.910795e-05\\\\\n",
       "\tDuration.3:Ex.Mode.2 & 0.04 & 2.480124e-15 & -15.147659 & 2.639098e-07\\\\\n",
       "\tEx.Mode.2:OutcomeVariable & 0.04 & 9.034360e-06 &  -7.575704 & 5.127594e-04\\\\\n",
       "\\end{tabular}\n"
      ],
      "text/markdown": [
       "\n",
       "A bayesfactor_inclusion: 18 × 4\n",
       "\n",
       "| <!--/--> | p_prior &lt;dbl&gt; | p_posterior &lt;dbl&gt; | log_BF &lt;dbl&gt; | BF &lt;dbl&gt; |\n",
       "|---|---|---|---|---|\n",
       "| 1:es.ids:Article.ID | 1.00 | 1.000000e+00 |        NaN |          NaN |\n",
       "| 1:Article.ID | 0.00 | 0.000000e+00 |        NaN |          NaN |\n",
       "| Ex.ACSM.2 | 0.16 | 6.386153e-05 |  -8.154652 | 2.873953e-04 |\n",
       "| Domain.2 | 0.16 | 1.222852e-03 |  -5.201258 | 5.509630e-03 |\n",
       "| Ex.Mode.2 | 0.20 | 1.779082e-02 |  -2.847962 | 5.796234e-02 |\n",
       "| EffectTime | 0.04 | 5.257831e-05 |  -6.675100 | 1.261946e-03 |\n",
       "| OutcomeVariable | 0.16 | 9.924183e-01 |   6.381202 | 5.906370e+02 |\n",
       "| Duration.3 | 0.16 | 2.140066e-04 |  -6.945211 | 9.632367e-04 |\n",
       "| Date | 0.04 | 6.077546e-05 |  -6.530210 | 1.458700e-03 |\n",
       "| Exercise.Design | 0.04 | 2.809324e-03 |  -2.693944 | 6.761372e-02 |\n",
       "| Ex.ACSM.2:Ex.Mode.2 | 0.04 | 2.679212e-12 | -12.971850 | 2.324861e-06 |\n",
       "| Duration.3:Ex.ACSM.2 | 0.04 | 7.603247e-16 | -16.794725 | 5.083276e-08 |\n",
       "| Duration.3:OutcomeVariable | 0.04 | 7.332311e-07 |  -5.670841 | 3.444968e-03 |\n",
       "| Domain.2:OutcomeVariable | 0.04 | 1.084718e-05 |  -4.721245 | 8.904090e-03 |\n",
       "| Domain.2:Ex.Mode.2 | 0.04 | 1.596058e-11 |  -8.751685 | 1.581946e-04 |\n",
       "| Domain.2:Ex.ACSM.2 | 0.04 | 1.187913e-12 | -10.149185 | 3.910795e-05 |\n",
       "| Duration.3:Ex.Mode.2 | 0.04 | 2.480124e-15 | -15.147659 | 2.639098e-07 |\n",
       "| Ex.Mode.2:OutcomeVariable | 0.04 | 9.034360e-06 |  -7.575704 | 5.127594e-04 |\n",
       "\n"
      ],
      "text/plain": [
       "                           p_prior p_posterior  log_BF     BF          \n",
       "1:es.ids:Article.ID        1.00    1.000000e+00        NaN          NaN\n",
       "1:Article.ID               0.00    0.000000e+00        NaN          NaN\n",
       "Ex.ACSM.2                  0.16    6.386153e-05  -8.154652 2.873953e-04\n",
       "Domain.2                   0.16    1.222852e-03  -5.201258 5.509630e-03\n",
       "Ex.Mode.2                  0.20    1.779082e-02  -2.847962 5.796234e-02\n",
       "EffectTime                 0.04    5.257831e-05  -6.675100 1.261946e-03\n",
       "OutcomeVariable            0.16    9.924183e-01   6.381202 5.906370e+02\n",
       "Duration.3                 0.16    2.140066e-04  -6.945211 9.632367e-04\n",
       "Date                       0.04    6.077546e-05  -6.530210 1.458700e-03\n",
       "Exercise.Design            0.04    2.809324e-03  -2.693944 6.761372e-02\n",
       "Ex.ACSM.2:Ex.Mode.2        0.04    2.679212e-12 -12.971850 2.324861e-06\n",
       "Duration.3:Ex.ACSM.2       0.04    7.603247e-16 -16.794725 5.083276e-08\n",
       "Duration.3:OutcomeVariable 0.04    7.332311e-07  -5.670841 3.444968e-03\n",
       "Domain.2:OutcomeVariable   0.04    1.084718e-05  -4.721245 8.904090e-03\n",
       "Domain.2:Ex.Mode.2         0.04    1.596058e-11  -8.751685 1.581946e-04\n",
       "Domain.2:Ex.ACSM.2         0.04    1.187913e-12 -10.149185 3.910795e-05\n",
       "Duration.3:Ex.Mode.2       0.04    2.480124e-15 -15.147659 2.639098e-07\n",
       "Ex.Mode.2:OutcomeVariable  0.04    9.034360e-06  -7.575704 5.127594e-04"
      ]
     },
     "metadata": {},
     "output_type": "display_data"
    }
   ],
   "source": [
    "inclusion_bfs"
   ]
  },
  {
   "cell_type": "code",
   "execution_count": 26,
   "id": "b59c1440-59d2-441e-8b8e-67d3cdff1e3d",
   "metadata": {},
   "outputs": [],
   "source": [
    "model_compare_bfs$BF <- exp(model_compare_bfs$log_BF)"
   ]
  },
  {
   "cell_type": "code",
   "execution_count": 18,
   "id": "e2344aa2-fe1d-4ce1-b541-3c30f373aa4b",
   "metadata": {},
   "outputs": [
    {
     "data": {
      "text/html": [
       "<table class=\"dataframe\">\n",
       "<caption>A bayesfactor_models: 1 × 3</caption>\n",
       "<thead>\n",
       "\t<tr><th></th><th scope=col>Model</th><th scope=col>log_BF</th><th scope=col>BF</th></tr>\n",
       "\t<tr><th></th><th scope=col>&lt;chr&gt;</th><th scope=col>&lt;dbl&gt;</th><th scope=col>&lt;dbl&gt;</th></tr>\n",
       "</thead>\n",
       "<tbody>\n",
       "\t<tr><th scope=row>outcome_model</th><td>OutcomeVariable + (1 | es.ids:Article.ID) + (1 | Article.ID)</td><td>4.971412</td><td>144.2304</td></tr>\n",
       "</tbody>\n",
       "</table>\n"
      ],
      "text/latex": [
       "A bayesfactor\\_models: 1 × 3\n",
       "\\begin{tabular}{r|lll}\n",
       "  & Model & log\\_BF & BF\\\\\n",
       "  & <chr> & <dbl> & <dbl>\\\\\n",
       "\\hline\n",
       "\toutcome\\_model & OutcomeVariable + (1 \\textbar{} es.ids:Article.ID) + (1 \\textbar{} Article.ID) & 4.971412 & 144.2304\\\\\n",
       "\\end{tabular}\n"
      ],
      "text/markdown": [
       "\n",
       "A bayesfactor_models: 1 × 3\n",
       "\n",
       "| <!--/--> | Model &lt;chr&gt; | log_BF &lt;dbl&gt; | BF &lt;dbl&gt; |\n",
       "|---|---|---|---|\n",
       "| outcome_model | OutcomeVariable + (1 | es.ids:Article.ID) + (1 | Article.ID) | 4.971412 | 144.2304 |\n",
       "\n"
      ],
      "text/plain": [
       "              Model                                                       \n",
       "outcome_model OutcomeVariable + (1 | es.ids:Article.ID) + (1 | Article.ID)\n",
       "              log_BF   BF      \n",
       "outcome_model 4.971412 144.2304"
      ]
     },
     "metadata": {},
     "output_type": "display_data"
    }
   ],
   "source": [
    "model_compare_bfs %>% filter(BF >= 3)"
   ]
  },
  {
   "cell_type": "code",
   "execution_count": 12,
   "id": "e5c79c87-8edb-47c3-a0d6-df1a4b74ec37",
   "metadata": {},
   "outputs": [],
   "source": [
    "foo <- readRDS('all_model_inclusionBFs.rds')"
   ]
  },
  {
   "cell_type": "code",
   "execution_count": 34,
   "id": "05dd4db6-48f3-4304-9a01-a385d4df1101",
   "metadata": {},
   "outputs": [],
   "source": [
    "margins <- readRDS('interaction_model_marginals.rds')"
   ]
  },
  {
   "cell_type": "code",
   "execution_count": 36,
   "id": "6b1ccb80-e5bc-44c7-8b33-32a5847fd6c2",
   "metadata": {},
   "outputs": [],
   "source": [
    "interaction_param_bfs <- readRDS('interaction_model_parameter_bfs.rds')"
   ]
  },
  {
   "cell_type": "code",
   "execution_count": 37,
   "id": "8583fbec-8fa5-47dd-b82a-d3f788d00ec3",
   "metadata": {},
   "outputs": [],
   "source": [
    "interaction_param_bfs <- lapply(interaction_param_bfs,\n",
    "                                function(x){\n",
    "                                    x$BF <- exp(x$log_BF)\n",
    "                                    x\n",
    "                                    })"
   ]
  },
  {
   "cell_type": "code",
   "execution_count": 39,
   "id": "c531e735-ec06-422b-ada6-963fe528e7a7",
   "metadata": {},
   "outputs": [
    {
     "data": {
      "text/html": [
       "<dl>\n",
       "\t<dt>$`Domain x Outcome`</dt>\n",
       "\t\t<dd><table class=\"dataframe\">\n",
       "<caption>A bayesfactor_parameters: 1 × 3</caption>\n",
       "<thead>\n",
       "\t<tr><th scope=col>Parameter</th><th scope=col>log_BF</th><th scope=col>BF</th></tr>\n",
       "\t<tr><th scope=col>&lt;chr&gt;</th><th scope=col>&lt;dbl&gt;</th><th scope=col>&lt;dbl&gt;</th></tr>\n",
       "</thead>\n",
       "<tbody>\n",
       "\t<tr><td>Executive Function RT</td><td>6.999336</td><td>1095.905</td></tr>\n",
       "</tbody>\n",
       "</table>\n",
       "</dd>\n",
       "\t<dt>$Type.Outcome</dt>\n",
       "\t\t<dd><table class=\"dataframe\">\n",
       "<caption>A bayesfactor_parameters: 3 × 3</caption>\n",
       "<thead>\n",
       "\t<tr><th scope=col>Parameter</th><th scope=col>log_BF</th><th scope=col>BF</th></tr>\n",
       "\t<tr><th scope=col>&lt;chr&gt;</th><th scope=col>&lt;dbl&gt;</th><th scope=col>&lt;dbl&gt;</th></tr>\n",
       "</thead>\n",
       "<tbody>\n",
       "\t<tr><td>HITT Accuracy</td><td>2.748240</td><td>  15.61512</td></tr>\n",
       "\t<tr><td>Cycling RT   </td><td>7.542111</td><td>1885.80726</td></tr>\n",
       "\t<tr><td>HITT RT      </td><td>5.327662</td><td> 205.95589</td></tr>\n",
       "</tbody>\n",
       "</table>\n",
       "</dd>\n",
       "\t<dt>$`Domain x Type`</dt>\n",
       "\t\t<dd><table class=\"dataframe\">\n",
       "<caption>A bayesfactor_parameters: 4 × 3</caption>\n",
       "<thead>\n",
       "\t<tr><th scope=col>Parameter</th><th scope=col>log_BF</th><th scope=col>BF</th></tr>\n",
       "\t<tr><th scope=col>&lt;chr&gt;</th><th scope=col>&lt;dbl&gt;</th><th scope=col>&lt;dbl&gt;</th></tr>\n",
       "</thead>\n",
       "<tbody>\n",
       "\t<tr><td>Attention Cycling         </td><td>1.116229</td><td>  3.05332</td></tr>\n",
       "\t<tr><td>Executive Function Cycling</td><td>2.880716</td><td> 17.82702</td></tr>\n",
       "\t<tr><td>Executive Function HITT   </td><td>5.045523</td><td>155.32554</td></tr>\n",
       "\t<tr><td>Attention Resistance      </td><td>2.894434</td><td> 18.07328</td></tr>\n",
       "</tbody>\n",
       "</table>\n",
       "</dd>\n",
       "</dl>\n"
      ],
      "text/latex": [
       "\\begin{description}\n",
       "\\item[\\$`Domain x Outcome`] A bayesfactor\\_parameters: 1 × 3\n",
       "\\begin{tabular}{lll}\n",
       " Parameter & log\\_BF & BF\\\\\n",
       " <chr> & <dbl> & <dbl>\\\\\n",
       "\\hline\n",
       "\t Executive Function RT & 6.999336 & 1095.905\\\\\n",
       "\\end{tabular}\n",
       "\n",
       "\\item[\\$Type.Outcome] A bayesfactor\\_parameters: 3 × 3\n",
       "\\begin{tabular}{lll}\n",
       " Parameter & log\\_BF & BF\\\\\n",
       " <chr> & <dbl> & <dbl>\\\\\n",
       "\\hline\n",
       "\t HITT Accuracy & 2.748240 &   15.61512\\\\\n",
       "\t Cycling RT    & 7.542111 & 1885.80726\\\\\n",
       "\t HITT RT       & 5.327662 &  205.95589\\\\\n",
       "\\end{tabular}\n",
       "\n",
       "\\item[\\$`Domain x Type`] A bayesfactor\\_parameters: 4 × 3\n",
       "\\begin{tabular}{lll}\n",
       " Parameter & log\\_BF & BF\\\\\n",
       " <chr> & <dbl> & <dbl>\\\\\n",
       "\\hline\n",
       "\t Attention Cycling          & 1.116229 &   3.05332\\\\\n",
       "\t Executive Function Cycling & 2.880716 &  17.82702\\\\\n",
       "\t Executive Function HITT    & 5.045523 & 155.32554\\\\\n",
       "\t Attention Resistance       & 2.894434 &  18.07328\\\\\n",
       "\\end{tabular}\n",
       "\n",
       "\\end{description}\n"
      ],
      "text/markdown": [
       "$`Domain x Outcome`\n",
       ":   \n",
       "A bayesfactor_parameters: 1 × 3\n",
       "\n",
       "| Parameter &lt;chr&gt; | log_BF &lt;dbl&gt; | BF &lt;dbl&gt; |\n",
       "|---|---|---|\n",
       "| Executive Function RT | 6.999336 | 1095.905 |\n",
       "\n",
       "\n",
       "$Type.Outcome\n",
       ":   \n",
       "A bayesfactor_parameters: 3 × 3\n",
       "\n",
       "| Parameter &lt;chr&gt; | log_BF &lt;dbl&gt; | BF &lt;dbl&gt; |\n",
       "|---|---|---|\n",
       "| HITT Accuracy | 2.748240 |   15.61512 |\n",
       "| Cycling RT    | 7.542111 | 1885.80726 |\n",
       "| HITT RT       | 5.327662 |  205.95589 |\n",
       "\n",
       "\n",
       "$`Domain x Type`\n",
       ":   \n",
       "A bayesfactor_parameters: 4 × 3\n",
       "\n",
       "| Parameter &lt;chr&gt; | log_BF &lt;dbl&gt; | BF &lt;dbl&gt; |\n",
       "|---|---|---|\n",
       "| Attention Cycling          | 1.116229 |   3.05332 |\n",
       "| Executive Function Cycling | 2.880716 |  17.82702 |\n",
       "| Executive Function HITT    | 5.045523 | 155.32554 |\n",
       "| Attention Resistance       | 2.894434 |  18.07328 |\n",
       "\n",
       "\n",
       "\n",
       "\n"
      ],
      "text/plain": [
       "$`Domain x Outcome`\n",
       "\u001b[34mBayes Factor (Savage-Dickey density ratio)\u001b[39m\n",
       "\n",
       "Parameter             |       BF |       BF\n",
       "-------------------------------------------\n",
       "Executive Function RT | 1.10e+03 | 1.10e+03\n",
       "\n",
       "* Evidence Against The Null: \u001b[36m0\n",
       "\u001b[39m\n",
       "$Type.Outcome\n",
       "\u001b[34mBayes Factor (Savage-Dickey density ratio)\u001b[39m\n",
       "\n",
       "Parameter     |       BF |       BF\n",
       "-----------------------------------\n",
       "HITT Accuracy |    15.62 |    15.62\n",
       "Cycling RT    | 1.89e+03 | 1.89e+03\n",
       "HITT RT       |   205.96 |   205.96\n",
       "\n",
       "* Evidence Against The Null: \u001b[36m0\n",
       "\u001b[39m\n",
       "$`Domain x Type`\n",
       "\u001b[34mBayes Factor (Savage-Dickey density ratio)\u001b[39m\n",
       "\n",
       "Parameter                  |     BF |     BF\n",
       "--------------------------------------------\n",
       "Attention Cycling          |   3.05 |   3.05\n",
       "Executive Function Cycling |  17.83 |  17.83\n",
       "Executive Function HITT    | 155.33 | 155.33\n",
       "Attention Resistance       |  18.07 |  18.07\n",
       "\n",
       "* Evidence Against The Null: \u001b[36m0\n",
       "\u001b[39m"
      ]
     },
     "metadata": {},
     "output_type": "display_data"
    }
   ],
   "source": [
    "lapply(interaction_param_bfs,\n",
    "       function(x){\n",
    "           x %>% filter(BF >= 3)\n",
    "           })"
   ]
  },
  {
   "cell_type": "code",
   "execution_count": 42,
   "id": "dd0c4748-ee81-46ae-806d-c7014b1130c7",
   "metadata": {},
   "outputs": [],
   "source": [
    "margins.modes <- lapply(margins,\n",
    "                        function(x){\n",
    "                            posts <- as.data.frame(as.mcmc(x, sep.chains=F))\n",
    "                            modes <- mode_hdi(posts, .width=0.89)\n",
    "                            })"
   ]
  },
  {
   "cell_type": "code",
   "execution_count": null,
   "id": "b83cc579-7844-4a83-b86c-a7fbf8219727",
   "metadata": {},
   "outputs": [],
   "source": []
  }
 ],
 "metadata": {
  "kernelspec": {
   "display_name": "R",
   "language": "R",
   "name": "ir"
  },
  "language_info": {
   "codemirror_mode": "r",
   "file_extension": ".r",
   "mimetype": "text/x-r-source",
   "name": "R",
   "pygments_lexer": "r",
   "version": "4.1.3"
  }
 },
 "nbformat": 4,
 "nbformat_minor": 5
}
